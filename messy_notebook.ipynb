{
 "cells": [
  {
   "cell_type": "code",
   "execution_count": null,
   "id": "5f36df93",
   "metadata": {},
   "outputs": [],
   "source": [
    "import pandas as pd\n",
    "import numpy as np\n",
    "import re\n",
    "\n",
    "input_file = \"sample_data.csv\"\n",
    "raw_data = pd.read_csv(input_file)\n",
    "print(\"Initial data loaded:\")\n",
    "print(raw_data.head())\n",
    "\n",
    "names_map = {\n",
    "    \"usa\": \"United States\",\n",
    "    \"us\": \"United States\",\n",
    "    \"u.s.a.\": \"United States\",\n",
    "    \"united states\": \"United States\",\n",
    "    \"uk\": \"United Kingdom\",\n",
    "    \"england\": \"United Kingdom\"\n",
    "}\n",
    "\n",
    "raw_data['country_cleaned'] = raw_data['country'].str.lower()\n",
    "raw_data['country_cleaned'] = raw_data['country_cleaned'].replace(names_map)\n",
    "print(\"Unique cleaned countries:\", raw_data['country_cleaned'].unique())\n",
    "\n",
    "def clean_text(text):\n",
    "    if pd.isna(text):\n",
    "        return \"\"\n",
    "    text = re.sub(r\"[^a-zA-Z0-9 ]\", \"\", str(text))\n",
    "    return text.strip().lower()\n",
    "\n",
    "raw_data['comments_cleaned'] = raw_data['comments'].apply(clean_text)\n",
    "raw_data['comments_cleaned_v2'] = raw_data['comments_cleaned'].apply(lambda x: x.replace(\"  \", \" \"))\n",
    "raw_data['comment_length'] = raw_data['comments_cleaned_v2'].apply(lambda x: len(x.split(\" \")))\n",
    "print(\"Comment stats:\")\n",
    "print(raw_data['comment_length'].describe())\n",
    "\n",
    "summary = raw_data.groupby('country_cleaned')['rating'].mean().reset_index()\n",
    "print(\"\\nAverage rating by country:\")\n",
    "print(summary.sort_values(by='rating', ascending=False))"
   ]
  }
 ],
 "metadata": {
  "kernelspec": {
   "display_name": "Python 3",
   "language": "python",
   "name": "python3"
  },
  "language_info": {
   "name": "python",
   "version": ""
  }
 },
 "nbformat": 4,
 "nbformat_minor": 5
}